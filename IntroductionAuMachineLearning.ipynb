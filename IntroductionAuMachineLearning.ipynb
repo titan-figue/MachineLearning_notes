{
 "cells": [
  {
   "cell_type": "markdown",
   "metadata": {},
   "source": [
    "# Introduction au machine learning"
   ]
  },
  {
   "cell_type": "markdown",
   "metadata": {},
   "source": [
    "by Miximum "
   ]
  },
  {
   "cell_type": "markdown",
   "metadata": {},
   "source": [
    "https://www.miximum.fr/blog/introduction-au-machine-learning/"
   ]
  },
  {
   "cell_type": "markdown",
   "metadata": {},
   "source": [
    "Vous avez-peut-être entendu parler de machine learning, deep learning ou apprentissage automatique ? Voici un aperçu de l'utilité et du fonctionnement de cette formidable technologie."
   ]
  },
  {
   "cell_type": "markdown",
   "metadata": {},
   "source": [
    "\n",
    "\n",
    "Ce billet fait partie d'une série d'articles sur le machine learning et le deep learning. En partant de zéro, nous découvrons le deep learning jusqu'à implémenter un algorithme de reconnaissance d'image en Javascript et Python.\n",
    "\n",
    "    Introduction au machine learning\n",
    "    Machine learning : régression linéaire et algorithme du gradient\n",
    "    Machine learning : la régression logistique\n",
    "    Machine learning : Deep learning et réseaux de neurones\n",
    "    Deep learning : la rétropropagation du gradient\n",
    "\n"
   ]
  },
  {
   "cell_type": "markdown",
   "metadata": {},
   "source": [
    "S'il y a une technologie à la mode, c'est bien le machine learning. Sans vraiment connaître les détails, vous avez peut-être entendu dire qu'il s'agissait des techniques permettant quelques exploits comme la conduite autonome, la reconnaissance vocale, le traitement du langage naturel, la reconnaissance d'image, la traduction automatique, la conquête du jeu de Go, etc. Rien que ça ! Autant de prouesses encore impensables il y a à peine quelques années.\n",
    "\n",
    "Il faut dire que quelques avancées technologiques ont eu lieu en 2016 qui offrent aux scientifiques et ingénieurs de nouvelles possibilités. Sans compter que la plupart des GAFAs libèrent les uns après les autres le code source de frameworks comme TensorFlow, CNTK ou PaddlePaddle.\n",
    "\n",
    "À mon grand dam, je n'ai quasiment pas trouvé d'introductions généralistes au machine learning qui ne nécessitent pas déjà de bonnes bases en calcul différentiel et algèbre linéaire, disciplines à la vénérabilité incontestée mais ne suscitant pas chez moi une appétence démesurée.\n",
    "\n",
    "Alors, en quoi consiste le machine learning ? Y a-t-il une différence avec le deep learning ? Quel est donc tout ce binz ?"
   ]
  },
  {
   "cell_type": "markdown",
   "metadata": {},
   "source": [
    "## Un problème Willem ?\n",
    "\n",
    "Un ordinateur est un outil et comme tous les outils, son utilité première est de détruire des emplois résoudre des problèmes.\n",
    "\n",
    "Exemple de problème : je voudrais consulter un plan de ma ville pour repérer l'itinéraire le plus court (ou le plus joli) entre mon lieu de travail et ma boulangerie préférée et peut-être vérifier s'il ne se trouve pas un primeur sur la route, parce que mon panier à légumes est vide.\n",
    "\n",
    "Un ordinateur n'apporte des solutions qu'à partir du moment ou il a été programmé par des humain·e·s pour le faire.\n",
    "\n",
    "Ainsi, ce sont des humain·e·s qui ont assemblés les milliers (millions ?) de lignes de code permettant à OpenStreetMap de fonctionner : je peux utiliser ce site pour afficher une carte, effectuer une recherche d'itinéraire, visualiser les commerces dans une rue donnée, etc.\n",
    "\n",
    "Un projet comme OpenStreetMap (comme n'importe quel logiciel non trivial) est probablement relativement complexe. Heureusement, une telle complexité n'est pas un obstacle pour les fièr·e·s ingénieur·e·s dont je fais partie, puisque nous disposons d'une méthode redoutablement efficace pour attaquer ce genre de problèmes : nous le découpons en sous-problèmes.\n",
    "\n",
    "« Créer un site cartographique » est en soi une tâche insurmontable, mais elle est en fait triviale si je la découpe en sous-tâches :\n",
    "\n",
    "    réunir des données cartographiques ;\n",
    "    les afficher sur un site ;\n",
    "    créer un algorithme de recherche d'itinéraire.\n",
    "\n",
    "Boum ! fini ! Évidemment, je n'ai fait que déplacer le problème, puisque « créer un algorithme de recherche d'itinéraire » n'est pas franchement une tâche triviale. Qu'à cela ne tienne, je n'ai qu'à la re-découper, puis re-re-redécouper jusqu'à obtenir des sous-sous-tâches suffisamment simples pour que je puisse effectivement les traiter."
   ]
  },
  {
   "cell_type": "markdown",
   "metadata": {},
   "source": [
    "## Diviser pour régner\n",
    "\n",
    "Ce mode de travail fonctionne étonnamment bien dans la plupart des cas. Créer une encyclopédie consultable depuis toute la planète et modifiable par tout le monde ? Fait ! Convertir du texte en impulsions électroniques et les faire voyager jusqu'à l'autre bout du monde pour les déposer dans la boîte de messagerie de votre destinataire ? Fait ! Lire des fichiers constitués uniquement de 0 et de 1 et les transformer en concerto de Vivaldi ou en riff d'ACDC ? Facile !\n",
    "\n",
    "Ces tâches sont à notre portée car elles sont découpables en micro-instructions qui, exécutées séquentiellement par des ordinateurs idiots, auront un résultat déterminé à l'avance.\n",
    "\n",
    "Il existe pourtant certaines tâches pour lesquelles cette approche ne fonctionne pas. L'exemple emblématique est celui de la reconnaissance d'image. Imaginons que je vous donne pour mission de construire un logiciel de détection de chaton dans des photos. À partir d'une bête photo, votre logiciel doit indiquer si oui ou non elle contient la représentation d'un chaton.\n",
    "\n",
    "Pour un cerveau humain, il s'agit d'une tâche triviale effectuée instantanément et ne demandant pas la moindre once de réflexion consciente. Mais pour un ordinateur ? Comment découper ce problème en sous problèmes ? Essayons !\n",
    "\n",
    "Détecter un chaton dans l'image ->\n",
    "\n",
    "    détecter la présence de pelage\n",
    "    détecter la présence de moustaches\n",
    "    détecter la présence de pâtes poilues\n",
    "    détecter la présence d'une queue\n",
    "    détecter de grands yeux mignons.\n",
    "\n",
    "Mouais… Et si sa queue est cachée ? Et s'il s'agit d'un chaton sphynx sans poils ? Et comment vais-je détecter de grands yeux mignons ?\n",
    "\n",
    "Détecter de grands yeux mignons ->\n",
    "\n",
    "    détecter la présence d'un œil\n",
    "    vérifier qu'il y en a deux à peu près côte à côte.\n",
    "\n",
    "Et si mon chaton se trouve de profil ? Et s'il à les yeux fermés ? Et d'abord, comment je détecte un œil ?\n",
    "\n",
    "Détecter un œil ->\n",
    "\n",
    "    détecter la présence d'une cornée\n",
    "    détecter la présence d'une pupille.\n",
    "\n",
    "Détecter une cornée ->\n",
    "\n",
    "    ???\n",
    "\n",
    "Quelle que soit la manière dont je m'y prenne, il semble que je me retrouve dans une impasse face à une tâche impossible. Au lieu de simplifier notre problème initial, ce découpage ne semble que le rendre plus complexe."
   ]
  },
  {
   "cell_type": "markdown",
   "metadata": {},
   "source": [
    "## L'apprentissage machine à la rescousse\n",
    "\n",
    "Pour sortir de l'impasse, il nous faut une autre approche. Et la solution qui donne les meilleurs résultats aujourd'hui, c'est le machine learning.\n",
    "\n",
    "Le principe est le suivant : je vais partir du principe qu'il existe une fonction h(X) -> y avec X la liste des pixels de l'image et y la réponse (chaton ou pas). Vous pouvez imaginer h comme une fonction mathématique ou comme une fonction informatique codée dans le langage que vous voulez, ça ne change pas grand chose.\n",
    "\n",
    "Je sais que cette fonction existe, parce qu'elle est contenue quelque part dans mon cerveau, mais je ne sais pas ce qu'elle contient, simplement qu'elle va effectuer des calculs à partir de la valeur des pixels pour recracher un simple résultat, chaton ou non, true ou false, 1 ou 0.\n",
    "\n",
    "Cette fonction, puisque je ne peux pas l'écrire, je vais grosso-modo laisser l'ordinateur le faire lui-même, en faisant passer mon machin par une phase d'apprentissage (d'où le terme machine learning). Je vais réunir des milliers d'images de chatons et de trucs qui ne sont pas des chatons et les faire passer dans ma fonction. À chaque fois, je vais comparer le résultat obtenu (qui dans un premier temps sera du grand n'importe quoi) avec le résultat attendu, et chaque fois que la fonction se trompera, un algorithme très intelligent, fort en maths et impossible à expliquer en une phrase ira bidouiller l'intérieur de la fonction pour minimiser la différence entre ce que je veux et ce que j'obtiens.\n",
    "\n",
    "Si j'ai bien fait mon travail, à la fin de cette phase, j'obtiendrai une fonction h devenue relativement compétente dans la reconnaissance de chatons. La réalité est évidemment beaucoup plus complexe, mais le principe est là."
   ]
  },
  {
   "cell_type": "markdown",
   "metadata": {},
   "source": [
    "## Concrètement, je fais quoi ?\n",
    "\n",
    "Pour mettre en place du machine learning, il nous faut plusieurs éléments.\n",
    "\n",
    "### Un problème\n",
    "\n",
    "Nous cherchons à résoudre un problème, qui doit être énoncé clairement. Le machine learning permet grosso-modo de résoudre deux grandes familles de problèmes :\n",
    "\n",
    "    la prédiction de valeurs en fonction de paramètres (on parle de régression au sens mathématiques du terme) ;\n",
    "    la classification, e.g l'assignation de catégories en fonction des paramètres de départ.\n",
    "\n",
    "Exemples :\n",
    "\n",
    "    en fonction de la surface, prédire le prix d'un appartement dans le centre ville de Montpellier (régression) ;\n",
    "    en fonction de son contenu, indiquer si un email doit être classifié en spam ou pas (classification) ;\n",
    "    en fonction des informations fournies par les capteurs, indiquer à quel degré tourner le volant (régression) ;\n",
    "    en fonction des pixels de l'image, classer la photo en chaton ou pas chaton (classification).\n",
    "\n",
    "### Un modèle\n",
    "\n",
    "Le modèle correspond à la fonction utilisée pour résoudre le problème. Il faut bien entendu choisir une fonction adéquate.\n",
    "\n",
    "    si je veux modéliser le prix d'un appartement en fonction de la surface, ma fonction prendra un seul paramètre (la surface) et retournera peut-être une droite.\n",
    "    si je veux classer un email en spam / non spam, ma fonction prendra probablement une poignée de paramètres (longueur du mail, présence du mot « viagra » ou pas, présence ou pas de l'expéditeur dans mon carnet d'adresse, etc.) et retournera un booléen.\n",
    "    si je veux classer une photo en chaton / pas chaton, ma fonction prendra des milliers de paramètres (un par pixel).\n",
    "\n",
    "Je sais, j'ai dit que cette fonction allait s'écrire toute seule, mais j'ai menti.\n",
    "\n",
    "Si je devais modéliser le prix d'un appartement au centre-ville de Montpellier en fonction de sa surface, utiliserais-je une droite ou une courbe ? Si je choisis une droite, peut-être que ma fonction h va s'écrire sous la forme h(x) = ax + b, alors que si je choisis une courbe, peut-être que ma fonction s'écrira sous la forme h(x) = ax + b * sqrt(x) + c.\n",
    "\n",
    "Le machine learning va me permettre de déterminer les constantes optimales (a, b, c) de la fonction choisie, mais c'est à moi de sélectionner la fonction (le modèle) adéquate.\n",
    "\n",
    "Vous vous dites peut-être que du coup, on en revient à devoir écrire nous même une fonction de reconnaissance de chat, ce qui devient tout de suite moins intéressant. Heureusement pour nous, il existe certaines techniques pour modéliser des problèmes (très) complexes d'une manière (relativement) simple (spoiler: les réseaux de neurones, on en reparlera).\n",
    "\n",
    "### Une fonction de calcul d'efficacité (calcul de coût)\n",
    "\n",
    "Le modèle sélectionné va permettre d'effectuer des prédictions. Comme l'intérieur du modèle est initialisé au hasard, nous allons au début obtenir des résultats farfelus. Dans l'exemple de l'immobilier à Montpellier, peut-être que j'obtiendrai un truc du genre h(50) = -840334.\n",
    "\n",
    "Pour que notre algorithme puisse apprendre, il lui faut un moyen de calculer à quel point il se gourre dans ses prédictions. Pour ce faire, nous définirons une fonction appelée fonction de coût (traditionnellement notée J), dont le résultat diminuera d'autant plus que le modèle prédit des valeurs qui s'approchent des observations.\n",
    "\n",
    "Il existe différentes fonctions consacrées selon les besoins, mais nul besoin de rentrer dans les détails ici.\n",
    "\n",
    "### Des données d'apprentissage\n",
    "\n",
    "Pour que notre modèle puisse s'adapter lors d'une phase d'apprentissage, il lui faut de la matière pour potasser. Nous aurons besoin de réunir un jeu de données suffisant étant donnée la complexité du problème. C'est souvent la partie la plus ardue, car s'il ne devrait pas être trop complexe de réunir quelques dizaines de milliers de photos de chatons, essayez donc de faire de même avec le fennec du désert albinos, pour voir.\n",
    "\n",
    "### Un algorithme d'apprentissage\n",
    "\n",
    "Une fois que nous avons notre modèle, que nous sommes en mesure d'évaluer grâce à une fonction de coût et des données de test, il devient possible d'optimiser ledit modèle grâce à un algorithme d'apprentissage. Le but de cet algorithme est d'adapter le modèle jusqu'à ce qu'il établisse des prédictions conformes aux données de test, ce qui revient à minimiser la fonction de coût.\n",
    "\n",
    "Il existe différents algorithmes d'apprentissages, et même le plus simple d'entre eux nécessite de se prendre la tête avec des notions mathématiques pas simples. Heureusement, il n'est pas forcément nécessaire de comprendre cet algorithme pour mettre en place du machine learning : il suffit de le traiter comme une boîte noire en sachant qu'il fait ce qu'on lui demande.\n",
    "\n",
    "### En résumé\n",
    "\n",
    "Concrètement mettre en place une technique de machine learning consiste à choisir un modèle (une fonction) apte à résoudre un problème donné, et à paramétrer ce modèle correctement au cours d'une phase d'apprentissage qui met en œuvre une fonction de coût (souvent déjà définie pour vous), des données de test et un algorithme d'apprentissage (là aussi déjà écrit pour vous)."
   ]
  },
  {
   "cell_type": "markdown",
   "metadata": {},
   "source": [
    "## Machine learning, deep learning, neural networks?\n",
    "\n",
    "« J'ai entendu parler de deep learning. Qu'est-ce ? »\n",
    "\n",
    "Pour un problème donné, le modèle peut être très simple (une bête fonction h(x) = ax + b) ou très complexe (une grosse fonction qui prend des milliers de paramètres avec un niveau d'imbrication très profond).\n",
    "\n",
    "Plus le modèle est complexe, et plus il sera capable de résoudre des problèmes complexes. La fonction f(x) = ax+b ne peut pas apprendre à conduire. Logique.\n",
    "\n",
    "Il est évident qu'il est plus facile et plus rapide de calibrer un modèle simple qu'un modèle complexe.\n",
    "\n",
    "Le deep learning est simplement un buzzword qui désigne la capacité (relativement récente, tant au niveau des algorithmes disponibles qu'à la puissance de calcul) à entraîner des modèles très complexes.\n",
    "\n",
    "En gros, si vous voulez ajouter +20% à votre salaire, remplacez machine learning par deep learning sur votre CV.\n",
    "\n",
    "« Et les réseaux de neurones, c'est quoi ? »\n",
    "\n",
    "Un réseau de neurone est simplement une abstraction intéressante qui permet d'imaginer et de représenter simplement des fonctions très complexes."
   ]
  },
  {
   "cell_type": "markdown",
   "metadata": {},
   "source": [
    "Par exemple, ceci :\n",
    "![illustration simpliste d'un réseau de neurones](https://i.miximum.fr/i/2017/01/IRB3I03MU7_l.png)\n",
    "Illustration simpliste d'un réseau de neurones"
   ]
  },
  {
   "cell_type": "markdown",
   "metadata": {},
   "source": [
    "Est une manière agréable de représenter la fonction :\n",
    "\n",
    "h(x) = g(W7 * g(W1 * x1 + W4 * x2) + W8 * g(W2 * x1 + W5 * x2) + W9 * g(W3 * x1 + W6 * x2))\n",
    "\n",
    "Avec g(x) = 1 / (1 + exp(-x))\n",
    "\n",
    "Et W1, W2… les fameux paramètres à calculer.\n",
    "\n",
    "Je vous laisse imaginer avec quelques milliers, voire millions de neurones."
   ]
  },
  {
   "cell_type": "code",
   "execution_count": null,
   "metadata": {},
   "outputs": [],
   "source": []
  }
 ],
 "metadata": {
  "kernelspec": {
   "display_name": "Python 3",
   "language": "python",
   "name": "python3"
  },
  "language_info": {
   "codemirror_mode": {
    "name": "ipython",
    "version": 3
   },
   "file_extension": ".py",
   "mimetype": "text/x-python",
   "name": "python",
   "nbconvert_exporter": "python",
   "pygments_lexer": "ipython3",
   "version": "3.7.6"
  }
 },
 "nbformat": 4,
 "nbformat_minor": 4
}
